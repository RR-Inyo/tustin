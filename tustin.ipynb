{
 "cells": [
  {
   "cell_type": "markdown",
   "metadata": {},
   "source": [
    "# 連続系の代表的な伝達関数の離散化\n",
    "© 2020 @RR_Inyo\n",
    "\n",
    "LTspiceおよび制御用自作ライブラリContrailleに実装するため，SymPy用いて，連続系における下記の伝達関数を双一次変換（Bilinear transform, Tustin transformとも）によって離散化しよう。\n",
    "\n",
    "|要素名|連続系における伝達関数|\n",
    "|:----|:----|\n",
    "|積分要素|$G_{1}(s) = \\displaystyle \\frac{1}{s}$|\n",
    "|微分要素|$G_{2}(s) = s$|\n",
    "|1次LPF (1)|$G_{3}(s) = \\displaystyle \\frac{1}{1 + sT}$|\n",
    "|1次LPF (2)|$G_{4}(s) = \\displaystyle \\frac{\\omega_{n}}{s + \\omega_{n}}$|\n",
    "|1次HPF (1)|$G_{5}(s) = \\displaystyle \\frac{s T}{1 + s T}$|\n",
    "|1次HPF (2)|$G_{6}(s) = \\displaystyle \\frac{s}{s + \\omega_{n}}$|\n",
    "|2次LPF|$G_{7}(s) = \\displaystyle \\frac{\\omega_{n}^{2}}{s^2 + 2 \\zeta \\omega_{n} s + \\omega_{n}^{2}}$|\n",
    "|2次HPF|$G_{8}(s) = \\displaystyle \\frac{s^{2}}{s^{2} + 2 \\zeta \\omega_{n} s + \\omega_{n}^{2}}$|\n",
    "|2次BPF|$G_{9}(s) = \\displaystyle \\frac{2 \\zeta \\omega_{n} s}{s^{2} + 2 \\zeta \\omega_{n} s + \\omega_{n}^{2}}$|\n",
    "|2次BEF|$G_{10}(s) = \\displaystyle \\frac{s^{2} + \\omega_{n}^{2}}{s^{2} + 2 \\zeta \\omega_{n} s + \\omega_{n}^{2}}$|\n",
    "\n",
    "ここで，サンプリング周期を$T_{s}$とすると，双一次変換は次式で表される。\n",
    "$$\n",
    "s = \\frac{2}{T_{s}} \\frac{z - 1}{z + 1} = \\frac{2}{T_{s}} \\frac{1 - z^{-1}}{1 + z^{-1}}\n",
    "$$"
   ]
  },
  {
   "cell_type": "code",
   "execution_count": 1,
   "metadata": {},
   "outputs": [],
   "source": [
    "# 準備\n",
    "import sympy as sp"
   ]
  },
  {
   "cell_type": "code",
   "execution_count": 2,
   "metadata": {},
   "outputs": [],
   "source": [
    "# シンボルの定義\n",
    "s = sp.symbols('s')\n",
    "z, T_s = sp.symbols('z T_s')\n",
    "T, omega_n, zeta = sp.symbols('T omega_n zeta')\n",
    "\n",
    "# 各伝達関数の定義\n",
    "G1 = 1 / s # 積分要素\n",
    "G2 = s # 微分要素\n",
    "G3 = 1 / (1 + s * T) # 1次LPF(1)\n",
    "G4 = omega_n / (s + omega_n) # 1次LPF(2)\n",
    "G5 = s * T / (1 + s * T) # 1次HPF(1)\n",
    "G6 = s / (s + omega_n) # 1次HPF(2)\n",
    "G7 = omega_n**2 / (s**2 + 2 * zeta * omega_n * s + omega_n**2) # 2次LPF\n",
    "G8 = s**2 / (s**2 + 2 * zeta * omega_n * s + omega_n**2) # 2次HPF\n",
    "G9 = 2 * zeta * omega_n * s / (s**2 + 2 * zeta * omega_n * s + omega_n**2) # 2次BPF\n",
    "G10 = (s**2 + omega_n**2) / (s**2 + 2 * zeta * omega_n * s + omega_n**2) # 2次BEF"
   ]
  },
  {
   "cell_type": "code",
   "execution_count": 3,
   "metadata": {},
   "outputs": [],
   "source": [
    "# 双一次変換（試行錯誤の急増関数）\n",
    "def tustin(G):\n",
    "    G_d = sp.simplify(G.subs(s, 2 / T_s * (z - 1) / (z + 1))) # 双一次変換\n",
    "    G_d = sp.collect(sp.expand(sp.numer(G_d)), z) / sp.collect(sp.expand(sp.denom(G_d)), z) # 分母分子をzの多項式に整理\n",
    "    return G_d\n",
    "\n",
    "def num_simp(G_d):\n",
    "    num = sp.collect(sp.expand(sp.numer(G_d) / (omega_n**2 * T_s**2)), z)\n",
    "    return num\n",
    "\n",
    "def den_simp(G_d):\n",
    "    den = sp.collect(sp.expand(sp.denom(G_d) / (omega_n**2 * T_s**2)), z)\n",
    "    return den"
   ]
  },
  {
   "cell_type": "markdown",
   "metadata": {},
   "source": [
    "## 積分要素と微分要素"
   ]
  },
  {
   "cell_type": "code",
   "execution_count": 4,
   "metadata": {},
   "outputs": [
    {
     "data": {
      "text/latex": [
       "$\\displaystyle \\frac{T_{s} z + T_{s}}{2 z - 2}$"
      ],
      "text/plain": [
       "(T_s*z + T_s)/(2*z - 2)"
      ]
     },
     "execution_count": 4,
     "metadata": {},
     "output_type": "execute_result"
    }
   ],
   "source": [
    "# 積分要素\n",
    "G1_d = tustin(G1)\n",
    "G1_d"
   ]
  },
  {
   "cell_type": "code",
   "execution_count": 5,
   "metadata": {},
   "outputs": [
    {
     "data": {
      "text/latex": [
       "$\\displaystyle \\frac{2 z - 2}{T_{s} z + T_{s}}$"
      ],
      "text/plain": [
       "(2*z - 2)/(T_s*z + T_s)"
      ]
     },
     "execution_count": 5,
     "metadata": {},
     "output_type": "execute_result"
    }
   ],
   "source": [
    "# 微分要素\n",
    "G2_d = tustin(G2)\n",
    "G2_d"
   ]
  },
  {
   "cell_type": "markdown",
   "metadata": {},
   "source": [
    "以上より，$G_{1}(s)$と$G_{2}(s)$を離散化した$G_{1d}(z)$と$G_{2d}(z)$は\n",
    "$$\n",
    "\\begin{align}\n",
    "G_{1d}(z) &= \\frac{T_{s} z + T_{s}}{2 z - 2} = \\frac{T_{s} + T_{s} z^{-1}}{2 - 2 z^{-1}} = \\frac{\\frac{T_{s}}{2} + \\frac{T_{s}}{2} z^{-1}}{1 - z^{-1}} \\\\[5pt]\n",
    "G_{2d}(z) &= \\frac{2 z - 2}{T_{s} z + T_{s}} = \\frac{2 - 2 z^{-1}}{T_{s} + T_{s} z^{-1}} = \\frac{\\frac{2}{T_{s}}- \\frac{2}{T_{s}} z^{-1}}{1 + z^{-1}}\n",
    "\\end{align}\n",
    "$$\n",
    "となる。"
   ]
  },
  {
   "cell_type": "markdown",
   "metadata": {},
   "source": [
    "## 1次系"
   ]
  },
  {
   "cell_type": "code",
   "execution_count": 6,
   "metadata": {},
   "outputs": [
    {
     "data": {
      "text/latex": [
       "$\\displaystyle \\frac{T_{s} z + T_{s}}{- 2 T + T_{s} + z \\left(2 T + T_{s}\\right)}$"
      ],
      "text/plain": [
       "(T_s*z + T_s)/(-2*T + T_s + z*(2*T + T_s))"
      ]
     },
     "execution_count": 6,
     "metadata": {},
     "output_type": "execute_result"
    }
   ],
   "source": [
    "# 1次LPF(1)\n",
    "G3_d = tustin(G3)\n",
    "G3_d"
   ]
  },
  {
   "cell_type": "code",
   "execution_count": 7,
   "metadata": {},
   "outputs": [
    {
     "data": {
      "text/latex": [
       "$\\displaystyle \\frac{T_{s} \\omega_{n} z + T_{s} \\omega_{n}}{T_{s} \\omega_{n} + z \\left(T_{s} \\omega_{n} + 2\\right) - 2}$"
      ],
      "text/plain": [
       "(T_s*omega_n*z + T_s*omega_n)/(T_s*omega_n + z*(T_s*omega_n + 2) - 2)"
      ]
     },
     "execution_count": 7,
     "metadata": {},
     "output_type": "execute_result"
    }
   ],
   "source": [
    "# 1次LPF(2)\n",
    "G4_d = tustin(G4)\n",
    "G4_d"
   ]
  },
  {
   "cell_type": "code",
   "execution_count": 8,
   "metadata": {},
   "outputs": [
    {
     "data": {
      "text/latex": [
       "$\\displaystyle \\frac{2 T z - 2 T}{- 2 T + T_{s} + z \\left(2 T + T_{s}\\right)}$"
      ],
      "text/plain": [
       "(2*T*z - 2*T)/(-2*T + T_s + z*(2*T + T_s))"
      ]
     },
     "execution_count": 8,
     "metadata": {},
     "output_type": "execute_result"
    }
   ],
   "source": [
    "# 1次HPF(1)\n",
    "G5_d = tustin(G5)\n",
    "G5_d"
   ]
  },
  {
   "cell_type": "code",
   "execution_count": 9,
   "metadata": {},
   "outputs": [
    {
     "data": {
      "text/latex": [
       "$\\displaystyle \\frac{2 z - 2}{T_{s} \\omega_{n} + z \\left(T_{s} \\omega_{n} + 2\\right) - 2}$"
      ],
      "text/plain": [
       "(2*z - 2)/(T_s*omega_n + z*(T_s*omega_n + 2) - 2)"
      ]
     },
     "execution_count": 9,
     "metadata": {},
     "output_type": "execute_result"
    }
   ],
   "source": [
    "# 1次HPF(2)\n",
    "G6_d = tustin(G6)\n",
    "G6_d"
   ]
  },
  {
   "cell_type": "markdown",
   "metadata": {},
   "source": [
    "以上より，以上より，$G_{3}(s)$ ~ $G_{6}(s)$を離散化した$G_{3d}(z)$ ~ $G_{6d}(z)$は\n",
    "$$\n",
    "\\begin{align}\n",
    "G_{3d}(z) &= \\frac{T_{s} z + T_{s}}{(T_{s} + 2 T) z + T_{s} - 2 T} = \\frac{T_{s} + T_{s} z^{-1}}{(T_{s} + 2 T) + (T_{s} - 2 T) z^{-1}} = \\frac{\\frac{T_{s}}{T_{s} + 2 T} + \\frac{T_{s}}{T_{s} + 2 T} z^{-1}}{1 + \\frac{T_{s} - 2 T}{T_{s} + 2 T} z^{-1}} \\\\[5pt]\n",
    "G_{4d}(z) &= \\frac{\\omega_{n} T_{s} z + \\omega_{n} T_{s}}{(\\omega T_{s} + 2) z + \\omega_{n} T_{s} - 2} = \\frac{\\omega_{n} T_{s} + \\omega_{n} T_{s} z^{-1}}{\\omega T_{s} + 2 + (\\omega_{n} T_{s} - 2) z^{-1}} = \\frac{\\frac{\\omega_{n} T_{s}}{\\omega T_{s} + 2} + \\frac{\\omega_{n} T_{s}}{\\omega T_{s} + 2} z^{-1}}{1 + \\frac{\\omega_{n} T_{s} - 2}{\\omega T_{s} + 2} z^{-1}} \\\\[5pt]\n",
    "G_{5d}(z) &= \\frac{2 T z - 2 T}{(T_{s} + 2 T) z + T_{s} - 2 T} = \\frac{2 T - 2 T z^{-1}}{T_{s} + 2 T + (T_{s} - 2 T) z^{-1}} = \\frac{\\frac{2 T}{T_{s} + 2 T} - \\frac{2 T}{T_{s} + 2 T} z^{-1}}{1 + \\frac{T_{s} - 2 T}{T_{s} + 2 T} z^{-1}} \\\\[5pt]\n",
    "G_{6d}(z) &= \\frac{2 z - 2}{(\\omega T_{s} + 2) z + \\omega_{n} T_{s} - 2} = \\frac{2 - 2 z^{-1}}{\\omega T_{s} + 2 + (\\omega_{n} T_{s} - 2) z^{-1}} = \\frac{\\frac{2}{\\omega T_{s} + 2} - \\frac{2}{\\omega T_{s} + 2} z^{-1}}{1 + \\frac{\\omega_{n} T_{s} - 2}{\\omega T_{s} + 2} z^{-1}}\n",
    "\\end{align}\n",
    "$$\n",
    "となる。"
   ]
  },
  {
   "cell_type": "markdown",
   "metadata": {},
   "source": [
    "## 2次系"
   ]
  },
  {
   "cell_type": "code",
   "execution_count": 10,
   "metadata": {},
   "outputs": [
    {
     "data": {
      "text/latex": [
       "$\\displaystyle \\frac{T_{s}^{2} \\omega_{n}^{2} z^{2} + 2 T_{s}^{2} \\omega_{n}^{2} z + T_{s}^{2} \\omega_{n}^{2}}{T_{s}^{2} \\omega_{n}^{2} - 4 T_{s} \\omega_{n} \\zeta + z^{2} \\left(T_{s}^{2} \\omega_{n}^{2} + 4 T_{s} \\omega_{n} \\zeta + 4\\right) + z \\left(2 T_{s}^{2} \\omega_{n}^{2} - 8\\right) + 4}$"
      ],
      "text/plain": [
       "(T_s**2*omega_n**2*z**2 + 2*T_s**2*omega_n**2*z + T_s**2*omega_n**2)/(T_s**2*omega_n**2 - 4*T_s*omega_n*zeta + z**2*(T_s**2*omega_n**2 + 4*T_s*omega_n*zeta + 4) + z*(2*T_s**2*omega_n**2 - 8) + 4)"
      ]
     },
     "execution_count": 10,
     "metadata": {},
     "output_type": "execute_result"
    }
   ],
   "source": [
    "# 2次系LPF\n",
    "G7_d = tustin(G7)\n",
    "G7_d"
   ]
  },
  {
   "cell_type": "code",
   "execution_count": 11,
   "metadata": {},
   "outputs": [
    {
     "data": {
      "text/latex": [
       "$\\displaystyle z^{2} + 2 z + 1$"
      ],
      "text/plain": [
       "z**2 + 2*z + 1"
      ]
     },
     "execution_count": 11,
     "metadata": {},
     "output_type": "execute_result"
    }
   ],
   "source": [
    "## G7_dの分子を整理\n",
    "num_simp(G7_d)"
   ]
  },
  {
   "cell_type": "code",
   "execution_count": 12,
   "metadata": {},
   "outputs": [
    {
     "data": {
      "text/latex": [
       "$\\displaystyle z^{2} \\left(1 + \\frac{4 \\zeta}{T_{s} \\omega_{n}} + \\frac{4}{T_{s}^{2} \\omega_{n}^{2}}\\right) + z \\left(2 - \\frac{8}{T_{s}^{2} \\omega_{n}^{2}}\\right) + 1 - \\frac{4 \\zeta}{T_{s} \\omega_{n}} + \\frac{4}{T_{s}^{2} \\omega_{n}^{2}}$"
      ],
      "text/plain": [
       "z**2*(1 + 4*zeta/(T_s*omega_n) + 4/(T_s**2*omega_n**2)) + z*(2 - 8/(T_s**2*omega_n**2)) + 1 - 4*zeta/(T_s*omega_n) + 4/(T_s**2*omega_n**2)"
      ]
     },
     "execution_count": 12,
     "metadata": {},
     "output_type": "execute_result"
    }
   ],
   "source": [
    "## G7_dの分母を整理\n",
    "den_simp(G7_d)"
   ]
  },
  {
   "cell_type": "code",
   "execution_count": 13,
   "metadata": {},
   "outputs": [
    {
     "data": {
      "text/latex": [
       "$\\displaystyle \\frac{4 z^{2} - 8 z + 4}{T_{s}^{2} \\omega_{n}^{2} - 4 T_{s} \\omega_{n} \\zeta + z^{2} \\left(T_{s}^{2} \\omega_{n}^{2} + 4 T_{s} \\omega_{n} \\zeta + 4\\right) + z \\left(2 T_{s}^{2} \\omega_{n}^{2} - 8\\right) + 4}$"
      ],
      "text/plain": [
       "(4*z**2 - 8*z + 4)/(T_s**2*omega_n**2 - 4*T_s*omega_n*zeta + z**2*(T_s**2*omega_n**2 + 4*T_s*omega_n*zeta + 4) + z*(2*T_s**2*omega_n**2 - 8) + 4)"
      ]
     },
     "execution_count": 13,
     "metadata": {},
     "output_type": "execute_result"
    }
   ],
   "source": [
    "# 2次系HPF\n",
    "G8_d = tustin(G8)\n",
    "G8_d"
   ]
  },
  {
   "cell_type": "code",
   "execution_count": 14,
   "metadata": {},
   "outputs": [
    {
     "data": {
      "text/latex": [
       "$\\displaystyle \\frac{4 z^{2}}{T_{s}^{2} \\omega_{n}^{2}} - \\frac{8 z}{T_{s}^{2} \\omega_{n}^{2}} + \\frac{4}{T_{s}^{2} \\omega_{n}^{2}}$"
      ],
      "text/plain": [
       "4*z**2/(T_s**2*omega_n**2) - 8*z/(T_s**2*omega_n**2) + 4/(T_s**2*omega_n**2)"
      ]
     },
     "execution_count": 14,
     "metadata": {},
     "output_type": "execute_result"
    }
   ],
   "source": [
    "## G8_dの分子を整理\n",
    "num_simp(G8_d)"
   ]
  },
  {
   "cell_type": "code",
   "execution_count": 15,
   "metadata": {},
   "outputs": [
    {
     "data": {
      "text/latex": [
       "$\\displaystyle z^{2} \\left(1 + \\frac{4 \\zeta}{T_{s} \\omega_{n}} + \\frac{4}{T_{s}^{2} \\omega_{n}^{2}}\\right) + z \\left(2 - \\frac{8}{T_{s}^{2} \\omega_{n}^{2}}\\right) + 1 - \\frac{4 \\zeta}{T_{s} \\omega_{n}} + \\frac{4}{T_{s}^{2} \\omega_{n}^{2}}$"
      ],
      "text/plain": [
       "z**2*(1 + 4*zeta/(T_s*omega_n) + 4/(T_s**2*omega_n**2)) + z*(2 - 8/(T_s**2*omega_n**2)) + 1 - 4*zeta/(T_s*omega_n) + 4/(T_s**2*omega_n**2)"
      ]
     },
     "execution_count": 15,
     "metadata": {},
     "output_type": "execute_result"
    }
   ],
   "source": [
    "## G8_dの分母を整理\n",
    "den_simp(G8_d)"
   ]
  },
  {
   "cell_type": "code",
   "execution_count": 16,
   "metadata": {},
   "outputs": [
    {
     "data": {
      "text/latex": [
       "$\\displaystyle \\frac{4 T_{s} \\omega_{n} z^{2} \\zeta - 4 T_{s} \\omega_{n} \\zeta}{T_{s}^{2} \\omega_{n}^{2} - 4 T_{s} \\omega_{n} \\zeta + z^{2} \\left(T_{s}^{2} \\omega_{n}^{2} + 4 T_{s} \\omega_{n} \\zeta + 4\\right) + z \\left(2 T_{s}^{2} \\omega_{n}^{2} - 8\\right) + 4}$"
      ],
      "text/plain": [
       "(4*T_s*omega_n*z**2*zeta - 4*T_s*omega_n*zeta)/(T_s**2*omega_n**2 - 4*T_s*omega_n*zeta + z**2*(T_s**2*omega_n**2 + 4*T_s*omega_n*zeta + 4) + z*(2*T_s**2*omega_n**2 - 8) + 4)"
      ]
     },
     "execution_count": 16,
     "metadata": {},
     "output_type": "execute_result"
    }
   ],
   "source": [
    "# 2次系BPF\n",
    "G9_d = tustin(G9)\n",
    "G9_d"
   ]
  },
  {
   "cell_type": "code",
   "execution_count": 17,
   "metadata": {},
   "outputs": [
    {
     "data": {
      "text/latex": [
       "$\\displaystyle \\frac{4 z^{2} \\zeta}{T_{s} \\omega_{n}} - \\frac{4 \\zeta}{T_{s} \\omega_{n}}$"
      ],
      "text/plain": [
       "4*z**2*zeta/(T_s*omega_n) - 4*zeta/(T_s*omega_n)"
      ]
     },
     "execution_count": 17,
     "metadata": {},
     "output_type": "execute_result"
    }
   ],
   "source": [
    "## G9_dの分子を整理\n",
    "num_simp(G9_d)"
   ]
  },
  {
   "cell_type": "code",
   "execution_count": 18,
   "metadata": {},
   "outputs": [
    {
     "data": {
      "text/latex": [
       "$\\displaystyle z^{2} \\left(1 + \\frac{4 \\zeta}{T_{s} \\omega_{n}} + \\frac{4}{T_{s}^{2} \\omega_{n}^{2}}\\right) + z \\left(2 - \\frac{8}{T_{s}^{2} \\omega_{n}^{2}}\\right) + 1 - \\frac{4 \\zeta}{T_{s} \\omega_{n}} + \\frac{4}{T_{s}^{2} \\omega_{n}^{2}}$"
      ],
      "text/plain": [
       "z**2*(1 + 4*zeta/(T_s*omega_n) + 4/(T_s**2*omega_n**2)) + z*(2 - 8/(T_s**2*omega_n**2)) + 1 - 4*zeta/(T_s*omega_n) + 4/(T_s**2*omega_n**2)"
      ]
     },
     "execution_count": 18,
     "metadata": {},
     "output_type": "execute_result"
    }
   ],
   "source": [
    "## G9_dの分母を整理\n",
    "den_simp(G9_d)"
   ]
  },
  {
   "cell_type": "code",
   "execution_count": 19,
   "metadata": {},
   "outputs": [
    {
     "data": {
      "text/latex": [
       "$\\displaystyle \\frac{T_{s}^{2} \\omega_{n}^{2} + z^{2} \\left(T_{s}^{2} \\omega_{n}^{2} + 4\\right) + z \\left(2 T_{s}^{2} \\omega_{n}^{2} - 8\\right) + 4}{T_{s}^{2} \\omega_{n}^{2} - 4 T_{s} \\omega_{n} \\zeta + z^{2} \\left(T_{s}^{2} \\omega_{n}^{2} + 4 T_{s} \\omega_{n} \\zeta + 4\\right) + z \\left(2 T_{s}^{2} \\omega_{n}^{2} - 8\\right) + 4}$"
      ],
      "text/plain": [
       "(T_s**2*omega_n**2 + z**2*(T_s**2*omega_n**2 + 4) + z*(2*T_s**2*omega_n**2 - 8) + 4)/(T_s**2*omega_n**2 - 4*T_s*omega_n*zeta + z**2*(T_s**2*omega_n**2 + 4*T_s*omega_n*zeta + 4) + z*(2*T_s**2*omega_n**2 - 8) + 4)"
      ]
     },
     "execution_count": 19,
     "metadata": {},
     "output_type": "execute_result"
    }
   ],
   "source": [
    "# 2次系BEF\n",
    "G10_d = tustin(G10)\n",
    "G10_d"
   ]
  },
  {
   "cell_type": "code",
   "execution_count": 20,
   "metadata": {},
   "outputs": [
    {
     "data": {
      "text/latex": [
       "$\\displaystyle z^{2} \\left(1 + \\frac{4}{T_{s}^{2} \\omega_{n}^{2}}\\right) + z \\left(2 - \\frac{8}{T_{s}^{2} \\omega_{n}^{2}}\\right) + 1 + \\frac{4}{T_{s}^{2} \\omega_{n}^{2}}$"
      ],
      "text/plain": [
       "z**2*(1 + 4/(T_s**2*omega_n**2)) + z*(2 - 8/(T_s**2*omega_n**2)) + 1 + 4/(T_s**2*omega_n**2)"
      ]
     },
     "execution_count": 20,
     "metadata": {},
     "output_type": "execute_result"
    }
   ],
   "source": [
    "## G10_dの分子を整理\n",
    "sp.collect(sp.expand(num_simp(G10_d)), z)"
   ]
  },
  {
   "cell_type": "code",
   "execution_count": 21,
   "metadata": {},
   "outputs": [
    {
     "data": {
      "text/latex": [
       "$\\displaystyle z^{2} \\left(1 + \\frac{4 \\zeta}{T_{s} \\omega_{n}} + \\frac{4}{T_{s}^{2} \\omega_{n}^{2}}\\right) + z \\left(2 - \\frac{8}{T_{s}^{2} \\omega_{n}^{2}}\\right) + 1 - \\frac{4 \\zeta}{T_{s} \\omega_{n}} + \\frac{4}{T_{s}^{2} \\omega_{n}^{2}}$"
      ],
      "text/plain": [
       "z**2*(1 + 4*zeta/(T_s*omega_n) + 4/(T_s**2*omega_n**2)) + z*(2 - 8/(T_s**2*omega_n**2)) + 1 - 4*zeta/(T_s*omega_n) + 4/(T_s**2*omega_n**2)"
      ]
     },
     "execution_count": 21,
     "metadata": {},
     "output_type": "execute_result"
    }
   ],
   "source": [
    "## G10_dの分母を整理\n",
    "den_simp(G10_d)"
   ]
  },
  {
   "cell_type": "markdown",
   "metadata": {},
   "source": [
    "以上より，$G_{7d}(z)$ ~ $G_{10d}(z)$の分母$D(z)$はすべて\n",
    "$$\n",
    "D(z) = \\left ( 1 + \\frac{4 \\zeta}{\\omega_{n} T_{s}} + \\frac{4}{\\omega_{n}^{2} T_{s}^{2}} \\right ) z^{2} + 2 \\left (1 - \\frac{4}{\\omega_{n}^{2} T_{s}^{2}} \\right ) z + 1 - \\frac{4 \\zeta}{\\omega_{n} T_{s}} + \\frac{4}{\\omega_{n}^{2} T_{s}^{2}}\n",
    "$$\n",
    "である。ここで，$M$と$N$をそれぞれ\n",
    "$$\n",
    "\\begin{align}\n",
    "M = \\frac{4 \\zeta}{\\omega_{n} T_{s}} \\\\[5pt]\n",
    "N = \\frac{4}{\\omega_{n}^{2} T_{s}^{2}}\n",
    "\\end{align}\n",
    "$$\n",
    "と定義すれば，$D(z)$は\n",
    "$$\n",
    "D(z) = (1 + M + N) z^{2} + 2 (1 - N) z^{1} + (1 - M + N) z^{0}\n",
    "$$\n",
    "と表現できる。また，上記のSymPyによる計算から，$G_{7}(s)$ ~ $G_{10}(s)$の分子も$M$，$N$を用いて書けることが判る。"
   ]
  },
  {
   "cell_type": "markdown",
   "metadata": {},
   "source": [
    "以上を踏まえて，$G_{7d}(z)$ ~ $G_{10d}(z)$を$M$，$N$を用いて表す。\n",
    "$$\n",
    "\\begin{align}\n",
    "G_{7d}(z) &= \\frac{z^{2} + 2 z + 1}{(1 + M + N) z^{2} + 2 (1 - N) z^{1} + 1 - M + N} = \\frac{\\frac{1}{1 + M + N} + \\frac{2}{1 + M + N} z^{-1} + \\frac{1}{1 + M + N} z^{-2}}{1 + \\frac{2 (1 - N)}{1 + M + N} z^{-1} + \\frac{1 - M + N}{1 + M + N} z^{-2}} \\\\[5pt]\n",
    "G_{8d}(z) &= \\frac{N z^{2} - 2 N z + N}{(1 + M + N) z^{2} + 2 (1 - N) z^{1} + 1 - M + N} = \\frac{\\frac{N}{1 + M + N} - \\frac{2 N}{1 + M + N} z^{-1} + \\frac{N}{1 + M + N} z^{-2}}{1 + \\frac{2 (1 - N)}{1 + M + N} z^{-1} + \\frac{1 - M + N}{1 + M + N} z^{-2}} \\\\[5pt]\n",
    "G_{9d}(z) &= \\frac{M z^{2} - M}{(1 + M + N) z^{2} + 2 (1 - N) z^{1} + 1 - M + N} = \\frac{\\frac{M}{1 + M + N} -\n",
    "\\frac{M}{1 + M + N} z^{-2}}{1 + \\frac{2 (1 - N)}{1 + M + N} z^{-1} + \\frac{1 - M + N}{1 + M + N} z^{-2}} \\\\[5pt]\n",
    "G_{10d}(z) &= \\frac{(1 + N) z^{2} + 2 (1 - N) z + 1 + N}{(1 + M + N) z^{2} + 2 (1 - N) z^{1} + 1 - M + N} = \\frac{\\frac{1 + N}{1 + M + N} + \\frac{2 (1 - N)}{1 + M + N} z^{-1} + \\frac{1 + N}{1 + M + N}}{1 + \\frac{2 (1 - N)}{1 + M + N} z^{-1} + \\frac{1 - M + N}{1 + M + N} z^{-2}}\n",
    "\\end{align}\n",
    "$$"
   ]
  },
  {
   "cell_type": "markdown",
   "metadata": {},
   "source": [
    "## まとめ\n",
    "連続系の伝達関数$G_{1}(s)$ ~ $G_{10}(s)$と，双一次変換によって得た離散系の伝達関数$G_{1d}(z)$ ~ $G_{10d}$の対応を一覧表にまとめると，下表を得る。\n",
    "\n",
    "|要素名|連続系における伝達関数|離散系における伝達関数|\n",
    "|:----|:----|:----|\n",
    "|積分要素|$G_{1}(s) = \\displaystyle \\frac{1}{s}$|$G_{1d}(z) = \\displaystyle \\frac{\\frac{T_{s}}{2} + \\frac{T_{s}}{2} z^{-1}}{1 - z^{-1}}$|\n",
    "|微分要素|$G_{2}(s) = s$|$G_{2d}(z) = \\displaystyle \\frac{\\frac{2}{T_{s}}- \\frac{2}{T_{s}} z^{-1}}{1 + z^{-1}}$|\n",
    "|1次LPF (1)|$G_{3}(s) = \\displaystyle \\frac{1}{1 + sT}$|$G_{3d}(z) = \\displaystyle \\frac{\\frac{T_{s}}{T_{s} + 2 T} + \\frac{T_{s}}{T_{s} + 2 T} z^{-1}}{1 + \\frac{T_{s} - 2 T}{T_{s} + 2 T} z^{-1}}$|\n",
    "|1次LPF (2)|$G_{4}(s) = \\displaystyle \\frac{\\omega_{n}}{s + \\omega_{n}}$|$G_{4d}(z) = \\displaystyle \\frac{\\frac{\\omega_{n} T_{s}}{\\omega T_{s} + 2} + \\frac{\\omega_{n} T_{s}}{\\omega T_{s} + 2} z^{-1}}{1 + \\frac{\\omega_{n} T_{s} - 2}{\\omega T_{s} + 2} z^{-1}}$|\n",
    "|1次HPF (1)|$G_{5}(s) = \\displaystyle \\frac{s T}{1 + s T}$|$G_{5d}(z) = \\displaystyle \\frac{\\frac{2 T}{T_{s} + 2 T} - \\frac{2 T}{T_{s} + 2 T} z^{-1}}{1 + \\frac{T_{s} - 2 T}{T_{s} + 2 T} z^{-1}}$|\n",
    "|1次HPF (2)|$G_{6}(s) = \\displaystyle \\frac{s}{s + \\omega_{n}}$|$G_{6d}(z) = \\displaystyle \\frac{\\frac{2}{\\omega T_{s} + 2} - \\frac{2}{\\omega T_{s} + 2} z^{-1}}{1 + \\frac{\\omega_{n} T_{s} - 2}{\\omega T_{s} + 2} z^{-1}}$|\n",
    "|2次LPF|$G_{7}(s) = \\displaystyle \\frac{\\omega_{n}^{2}}{s^2 + s \\zeta \\omega_{n} s + \\omega_{n}^{2}}$|$G_{7d}(z) = \\displaystyle \\frac{\\frac{1}{1 + M + N} + \\frac{2}{1 + M + N} z^{-1} + \\frac{1}{1 + M + N} z^{-2}}{1 + \\frac{2 (1 - N)}{1 + M + N} z^{-1} + \\frac{1 - M + N}{1 + M + N} z^{-2}}$|\n",
    "|2次HPF|$G_{8}(s) = \\displaystyle \\frac{s^{2}}{s^{2} + s \\zeta \\omega_{n} s + \\omega_{n}^{2}}$|$G_{8d}(z) = \\displaystyle \\frac{\\frac{N}{1 + M + N} - \\frac{2 N}{1 + M + N} z^{-1} + \\frac{N}{1 + M + N} z^{-2}}{1 + \\frac{2 (1 - N)}{1 + M + N} z^{-1} + \\frac{1 - M + N}{1 + M + N} z^{-2}}$|\n",
    "|2次BPF|$G_{9}(s) = \\displaystyle \\frac{2 \\zeta \\omega_{n} s}{s^{2} + s \\zeta \\omega_{n} s + \\omega_{n}^{2}}$|$G_{9d}(z) = \\displaystyle \\frac{\\frac{M}{1 + M + N} - \\frac{M}{1 + M + N} z^{-2}}{1 + \\frac{2 (1 - N)}{1 + M + N} z^{-1} + \\frac{1 - M + N}{1 + M + N} z^{-2}}$|\n",
    "|2次BEF|$G_{10}(s) = \\displaystyle \\frac{s^{2} + \\omega_{n}^{2}}{s^{2} + s \\zeta \\omega_{n} s + \\omega_{n}^{2}}$|$G_{10d} = \\displaystyle \\frac{\\frac{1 + N}{1 + M + N} + \\frac{2 (1 - N)}{1 + M + N} z^{-1} + \\frac{1 + N}{1 + M + N}}{1 + \\frac{2 (1 - N)}{1 + M + N} z^{-1} + \\frac{1 - M + N}{1 + M + N} z^{-2}}$|\n",
    "\n",
    "ただし，2次系に関して，\n",
    "$$\n",
    "\\begin{align}\n",
    "M = \\frac{4 \\zeta}{\\omega_{n} T_{s}} \\\\[5pt]\n",
    "N = \\frac{4}{\\omega_{n}^{2} T_{s}^{2}}\n",
    "\\end{align}\n",
    "$$\n",
    "である。"
   ]
  },
  {
   "cell_type": "code",
   "execution_count": null,
   "metadata": {},
   "outputs": [],
   "source": []
  }
 ],
 "metadata": {
  "kernelspec": {
   "display_name": "Python 3",
   "language": "python",
   "name": "python3"
  },
  "language_info": {
   "codemirror_mode": {
    "name": "ipython",
    "version": 3
   },
   "file_extension": ".py",
   "mimetype": "text/x-python",
   "name": "python",
   "nbconvert_exporter": "python",
   "pygments_lexer": "ipython3",
   "version": "3.7.7"
  }
 },
 "nbformat": 4,
 "nbformat_minor": 4
}
